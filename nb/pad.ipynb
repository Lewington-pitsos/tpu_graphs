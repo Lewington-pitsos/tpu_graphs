{
 "cells": [
  {
   "cell_type": "code",
   "execution_count": 2,
   "id": "63693ac6-4b5e-4168-a7b4-598dc787aa68",
   "metadata": {},
   "outputs": [
    {
     "name": "stdout",
     "output_type": "stream",
     "text": [
      "<class 'module'>\n",
      "['__doc__', '__file__', '__loader__', '__name__', '__package__', '__spec__', 'extract_graph_features']\n"
     ]
    }
   ],
   "source": [
    "import sys\n",
    "\n",
    "sys.path.insert(0, '../')\n",
    "\n",
    "import graph_features\n",
    "print(type(graph_features))\n",
    "print(dir(graph_features))"
   ]
  },
  {
   "cell_type": "code",
   "execution_count": 5,
   "id": "5d54d8a7-0b47-4da3-974e-874e702e186f",
   "metadata": {},
   "outputs": [],
   "source": [
    "node_opcode, node_feat, edge_index, node_config_ids, node_splits = graph_features.extract_graph_features('../data/pb/layout/xla/default/train/brax_es.pb')"
   ]
  },
  {
   "cell_type": "code",
   "execution_count": 6,
   "id": "ec456ec3-cf12-4881-992f-63899b677efa",
   "metadata": {},
   "outputs": [
    {
     "data": {
      "text/plain": [
       "array([ 63,  63,   2, ...,  70,  59, 100], dtype=uint8)"
      ]
     },
     "execution_count": 6,
     "metadata": {},
     "output_type": "execute_result"
    }
   ],
   "source": [
    "node_opcode"
   ]
  },
  {
   "cell_type": "code",
   "execution_count": null,
   "id": "d1c974b1-281f-455d-a151-c76cd55c671c",
   "metadata": {},
   "outputs": [],
   "source": []
  }
 ],
 "metadata": {
  "kernelspec": {
   "display_name": "Python 3 (ipykernel)",
   "language": "python",
   "name": "python3"
  },
  "language_info": {
   "codemirror_mode": {
    "name": "ipython",
    "version": 3
   },
   "file_extension": ".py",
   "mimetype": "text/x-python",
   "name": "python",
   "nbconvert_exporter": "python",
   "pygments_lexer": "ipython3",
   "version": "3.10.12"
  }
 },
 "nbformat": 4,
 "nbformat_minor": 5
}
