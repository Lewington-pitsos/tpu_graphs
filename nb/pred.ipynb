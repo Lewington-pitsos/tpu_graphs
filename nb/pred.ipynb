{
 "cells": [
  {
   "cell_type": "code",
   "execution_count": 44,
   "id": "7c96d390-24a9-4a5a-99e3-0effa58b0f75",
   "metadata": {},
   "outputs": [],
   "source": [
    "import os\n",
    "import numpy as np\n",
    "import random"
   ]
  },
  {
   "cell_type": "code",
   "execution_count": 9,
   "id": "1aa524b7-2cbb-4818-a9ac-1346000d4068",
   "metadata": {},
   "outputs": [
    {
     "name": "stdout",
     "output_type": "stream",
     "text": [
      "5709\n",
      "676\n",
      "844\n"
     ]
    }
   ],
   "source": [
    "tile_dir = '../data/npz_all/npz/tile/xla/'\n",
    "train_dir = tile_dir + 'train/'\n",
    "valid_dir = tile_dir + 'valid/'\n",
    "test_dir = tile_dir + 'test/'\n",
    "\n",
    "\n",
    "\n",
    "print(len(os.listdir(train_dir)))\n",
    "print(len(os.listdir(valid_dir)))\n",
    "print(len(os.listdir(test_dir)))"
   ]
  },
  {
   "cell_type": "code",
   "execution_count": 11,
   "id": "f2e997d0-d77e-47ff-b2ff-d6dc5e9ef446",
   "metadata": {},
   "outputs": [
    {
     "name": "stdout",
     "output_type": "stream",
     "text": [
      "3ad7a21fdfc9fce79d2b9c3f83397989.npz\n"
     ]
    }
   ],
   "source": [
    "print(os.listdir(_dir)[0])"
   ]
  },
  {
   "cell_type": "code",
   "execution_count": 19,
   "id": "53ca7694-35d0-4570-b1d3-9e5f171bd2a5",
   "metadata": {},
   "outputs": [],
   "source": [
    "data = np.load(valid_dir + os.listdir(valid_dir)[0])"
   ]
  },
  {
   "cell_type": "code",
   "execution_count": 20,
   "id": "2c1b8917-26d0-43b5-a080-d034edfcafe2",
   "metadata": {},
   "outputs": [
    {
     "name": "stdout",
     "output_type": "stream",
     "text": [
      "node_feat (27, 140)\n",
      "node_opcode (27,)\n",
      "edge_index (26, 2)\n",
      "config_feat (1893, 24)\n",
      "config_runtime (1893,)\n",
      "config_runtime_normalizers (1893,)\n"
     ]
    }
   ],
   "source": [
    "for k, v in data.items():\n",
    "    print(k, v.shape)"
   ]
  },
  {
   "cell_type": "code",
   "execution_count": 22,
   "id": "167dcd3a-38d1-472a-86eb-d60acbbcba75",
   "metadata": {},
   "outputs": [
    {
     "data": {
      "text/plain": [
       "1760332.9302694136"
      ]
     },
     "execution_count": 22,
     "metadata": {},
     "output_type": "execute_result"
    }
   ],
   "source": [
    "np.mean(data['config_runtime'])"
   ]
  },
  {
   "cell_type": "code",
   "execution_count": 55,
   "id": "9a385461-5bfb-4828-ab07-50a11fb0556b",
   "metadata": {},
   "outputs": [
    {
     "name": "stdout",
     "output_type": "stream",
     "text": [
      "-16.181818181818183\n"
     ]
    }
   ],
   "source": [
    "def speed_score(y_true, y_pred, k):\n",
    "    y_fastest = np.min(y_true)\n",
    "\n",
    "    slowdowns_actual = y_true / y_fastest\n",
    "\n",
    "    top_k_indices = y_pred[:k]\n",
    "    \n",
    "    top_k_predicted_times = np.min(y_true[top_k_indices])\n",
    "\n",
    "    ratio = top_k_predicted_times / y_fastest\n",
    "\n",
    "    return 2 - ratio \n",
    "\n",
    "print(speed_score(np.array([1.24, 0.231, 4.2, 2.01]), np.array([2, 0, 3, 1]), 1))"
   ]
  },
  {
   "cell_type": "code",
   "execution_count": 57,
   "id": "78bafe14-eac8-44e8-9cd9-45e63700d983",
   "metadata": {},
   "outputs": [
    {
     "name": "stdout",
     "output_type": "stream",
     "text": [
      "0.20588285240273144\n",
      "0.11013976804938272\n",
      "0.07634861388709904\n",
      "0.08908316248150643\n",
      "0.10548635153856464\n",
      "0.10646708337931983\n",
      "0.054634522607414165\n",
      "0.13785412973072972\n",
      "0.16659947780720924\n",
      "0.10382217359189513\n"
     ]
    }
   ],
   "source": [
    "def predict(model, filename):\n",
    "    data = np.load(filename)\n",
    "\n",
    "    runtimes = data['config_runtime'] / data['config_runtime_normalizers']\n",
    "\n",
    "    return runtimes,model(data)\n",
    "\n",
    "def random_model(data):\n",
    "    indices = list(range(len(data['config_runtime'])))\n",
    "    random.shuffle(indices)\n",
    "    return indices\n",
    "\n",
    "filenames = [valid_dir + f for f in os.listdir(valid_dir)]\n",
    "\n",
    "for i in range(10):\n",
    "    scores = []\n",
    "    for f in filenames:\n",
    "        runtimes, preds = predict(random_model, f)\n",
    "    \n",
    "        scores.append(speed_score(runtimes, preds, 3))\n",
    "    \n",
    "    \n",
    "    print(np.mean(scores))"
   ]
  },
  {
   "cell_type": "code",
   "execution_count": null,
   "id": "f57f5408-c4e1-4bed-8a10-b005a96eeda8",
   "metadata": {},
   "outputs": [],
   "source": []
  }
 ],
 "metadata": {
  "kernelspec": {
   "display_name": "Python 3 (ipykernel)",
   "language": "python",
   "name": "python3"
  },
  "language_info": {
   "codemirror_mode": {
    "name": "ipython",
    "version": 3
   },
   "file_extension": ".py",
   "mimetype": "text/x-python",
   "name": "python",
   "nbconvert_exporter": "python",
   "pygments_lexer": "ipython3",
   "version": "3.10.12"
  }
 },
 "nbformat": 4,
 "nbformat_minor": 5
}
